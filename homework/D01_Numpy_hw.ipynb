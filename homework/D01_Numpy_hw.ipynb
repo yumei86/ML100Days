{
 "cells": [
  {
   "cell_type": "code",
   "execution_count": 2,
   "metadata": {
    "id": "NfVTcwauD3rg"
   },
   "outputs": [],
   "source": [
    "import numpy as np"
   ]
  },
  {
   "cell_type": "code",
   "execution_count": 3,
   "metadata": {
    "id": "QrOaxfmeEpvo"
   },
   "outputs": [
    {
     "output_type": "stream",
     "name": "stdout",
     "text": [
      "[ 0  1  2  3  4  5  6  7  8  9 10 11 12 13 14 15 16 17 18 19 20]\n"
     ]
    }
   ],
   "source": [
    "#1.生成一個等差數列，首數為0，尾數為20，公差為1的數列。\n",
    "a = np.arange(0,21,1)\n",
    "print(a)"
   ]
  },
  {
   "cell_type": "code",
   "execution_count": 4,
   "metadata": {
    "id": "5FFeFSvoEtRP"
   },
   "outputs": [
    {
     "output_type": "stream",
     "name": "stdout",
     "text": [
      "0\n2\n4\n6\n8\n10\n12\n14\n16\n18\n20\n"
     ]
    }
   ],
   "source": [
    "#2.呈上題，將以上數列取出偶數。\n",
    "for i in range(len(a)):\n",
    "    if a[i] % 2 == 0:\n",
    "        print(a[i]) "
   ]
  },
  {
   "cell_type": "code",
   "execution_count": 5,
   "metadata": {
    "id": "7-HcNGFsFD-_"
   },
   "outputs": [
    {
     "output_type": "stream",
     "name": "stdout",
     "text": [
      "0\n3\n6\n9\n12\n15\n18\n"
     ]
    }
   ],
   "source": [
    "#3.呈1題，將數列取出3的倍數。\n",
    "for i in range(len(a)):\n",
    "    if a[i] % 3 == 0:\n",
    "        print(a[i]) "
   ]
  }
 ],
 "metadata": {
  "colab": {
   "collapsed_sections": [],
   "name": "作業題目.ipynb",
   "provenance": []
  },
  "kernelspec": {
   "display_name": "Python 3",
   "language": "python",
   "name": "python3"
  },
  "language_info": {
   "codemirror_mode": {
    "name": "ipython",
    "version": 3
   },
   "file_extension": ".py",
   "mimetype": "text/x-python",
   "name": "python",
   "nbconvert_exporter": "python",
   "pygments_lexer": "ipython3",
   "version": "3.8.5-final"
  }
 },
 "nbformat": 4,
 "nbformat_minor": 1
}